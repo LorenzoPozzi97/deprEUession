{
  "nbformat": 4,
  "nbformat_minor": 0,
  "metadata": {
    "colab": {
      "provenance": [],
      "authorship_tag": "ABX9TyNtgX9fROW5jHvWdDZMSz5o",
      "include_colab_link": true
    },
    "kernelspec": {
      "name": "python3",
      "display_name": "Python 3"
    },
    "language_info": {
      "name": "python"
    }
  },
  "cells": [
    {
      "cell_type": "markdown",
      "metadata": {
        "id": "view-in-github",
        "colab_type": "text"
      },
      "source": [
        "<a href=\"https://colab.research.google.com/github/LorenzoPozzi97/deprEUession/blob/main/deprEUssion.ipynb\" target=\"_parent\"><img src=\"https://colab.research.google.com/assets/colab-badge.svg\" alt=\"Open In Colab\"/></a>"
      ]
    },
    {
      "cell_type": "code",
      "source": [
        "!pip install pingouin"
      ],
      "metadata": {
        "colab": {
          "base_uri": "https://localhost:8080/"
        },
        "id": "e-nPbVwDEUlN",
        "outputId": "432699d3-7e9e-4759-eaf4-a7c9a4afffbf"
      },
      "execution_count": 6,
      "outputs": [
        {
          "output_type": "stream",
          "name": "stdout",
          "text": [
            "Looking in indexes: https://pypi.org/simple, https://us-python.pkg.dev/colab-wheels/public/simple/\n",
            "Requirement already satisfied: pingouin in /usr/local/lib/python3.7/dist-packages (0.5.2)\n",
            "Requirement already satisfied: statsmodels>=0.13 in /usr/local/lib/python3.7/dist-packages (from pingouin) (0.13.5)\n",
            "Requirement already satisfied: scipy>=1.7 in /usr/local/lib/python3.7/dist-packages (from pingouin) (1.7.3)\n",
            "Requirement already satisfied: seaborn>=0.11 in /usr/local/lib/python3.7/dist-packages (from pingouin) (0.11.2)\n",
            "Requirement already satisfied: numpy>=1.19 in /usr/local/lib/python3.7/dist-packages (from pingouin) (1.21.6)\n",
            "Requirement already satisfied: pandas>=1.0 in /usr/local/lib/python3.7/dist-packages (from pingouin) (1.3.5)\n",
            "Requirement already satisfied: outdated in /usr/local/lib/python3.7/dist-packages (from pingouin) (0.2.2)\n",
            "Requirement already satisfied: tabulate in /usr/local/lib/python3.7/dist-packages (from pingouin) (0.8.10)\n",
            "Requirement already satisfied: scikit-learn<1.1.0 in /usr/local/lib/python3.7/dist-packages (from pingouin) (1.0.2)\n",
            "Requirement already satisfied: pandas-flavor>=0.2.0 in /usr/local/lib/python3.7/dist-packages (from pingouin) (0.2.0)\n",
            "Requirement already satisfied: matplotlib>=3.0.2 in /usr/local/lib/python3.7/dist-packages (from pingouin) (3.2.2)\n",
            "Requirement already satisfied: pyparsing!=2.0.4,!=2.1.2,!=2.1.6,>=2.0.1 in /usr/local/lib/python3.7/dist-packages (from matplotlib>=3.0.2->pingouin) (3.0.9)\n",
            "Requirement already satisfied: kiwisolver>=1.0.1 in /usr/local/lib/python3.7/dist-packages (from matplotlib>=3.0.2->pingouin) (1.4.4)\n",
            "Requirement already satisfied: python-dateutil>=2.1 in /usr/local/lib/python3.7/dist-packages (from matplotlib>=3.0.2->pingouin) (2.8.2)\n",
            "Requirement already satisfied: cycler>=0.10 in /usr/local/lib/python3.7/dist-packages (from matplotlib>=3.0.2->pingouin) (0.11.0)\n",
            "Requirement already satisfied: typing-extensions in /usr/local/lib/python3.7/dist-packages (from kiwisolver>=1.0.1->matplotlib>=3.0.2->pingouin) (4.1.1)\n",
            "Requirement already satisfied: pytz>=2017.3 in /usr/local/lib/python3.7/dist-packages (from pandas>=1.0->pingouin) (2022.6)\n",
            "Requirement already satisfied: xarray in /usr/local/lib/python3.7/dist-packages (from pandas-flavor>=0.2.0->pingouin) (0.20.2)\n",
            "Requirement already satisfied: six>=1.5 in /usr/local/lib/python3.7/dist-packages (from python-dateutil>=2.1->matplotlib>=3.0.2->pingouin) (1.15.0)\n",
            "Requirement already satisfied: joblib>=0.11 in /usr/local/lib/python3.7/dist-packages (from scikit-learn<1.1.0->pingouin) (1.2.0)\n",
            "Requirement already satisfied: threadpoolctl>=2.0.0 in /usr/local/lib/python3.7/dist-packages (from scikit-learn<1.1.0->pingouin) (3.1.0)\n",
            "Requirement already satisfied: patsy>=0.5.2 in /usr/local/lib/python3.7/dist-packages (from statsmodels>=0.13->pingouin) (0.5.3)\n",
            "Requirement already satisfied: packaging>=21.3 in /usr/local/lib/python3.7/dist-packages (from statsmodels>=0.13->pingouin) (21.3)\n",
            "Requirement already satisfied: littleutils in /usr/local/lib/python3.7/dist-packages (from outdated->pingouin) (0.2.2)\n",
            "Requirement already satisfied: setuptools>=44 in /usr/local/lib/python3.7/dist-packages (from outdated->pingouin) (57.4.0)\n",
            "Requirement already satisfied: requests in /usr/local/lib/python3.7/dist-packages (from outdated->pingouin) (2.23.0)\n",
            "Requirement already satisfied: urllib3!=1.25.0,!=1.25.1,<1.26,>=1.21.1 in /usr/local/lib/python3.7/dist-packages (from requests->outdated->pingouin) (1.24.3)\n",
            "Requirement already satisfied: certifi>=2017.4.17 in /usr/local/lib/python3.7/dist-packages (from requests->outdated->pingouin) (2022.9.24)\n",
            "Requirement already satisfied: chardet<4,>=3.0.2 in /usr/local/lib/python3.7/dist-packages (from requests->outdated->pingouin) (3.0.4)\n",
            "Requirement already satisfied: idna<3,>=2.5 in /usr/local/lib/python3.7/dist-packages (from requests->outdated->pingouin) (2.10)\n",
            "Requirement already satisfied: importlib-metadata in /usr/local/lib/python3.7/dist-packages (from xarray->pandas-flavor>=0.2.0->pingouin) (4.13.0)\n",
            "Requirement already satisfied: zipp>=0.5 in /usr/local/lib/python3.7/dist-packages (from importlib-metadata->xarray->pandas-flavor>=0.2.0->pingouin) (3.10.0)\n"
          ]
        }
      ]
    },
    {
      "cell_type": "code",
      "execution_count": 7,
      "metadata": {
        "id": "prbaqEwo8H8M"
      },
      "outputs": [],
      "source": [
        "import sqlite3, re, numpy as np, pandas as pd, matplotlib.pyplot as plt\n",
        "import math\n",
        "from sklearn import preprocessing\n",
        "from scipy import stats\n",
        "import statsmodels.api as sm\n",
        "from statsmodels.formula.api import ols\n",
        "import pingouin as pg\n",
        "from itertools import combinations\n",
        "\n"
      ]
    },
    {
      "cell_type": "markdown",
      "source": [
        "# Utils"
      ],
      "metadata": {
        "id": "40AIlPwh8V_n"
      }
    },
    {
      "cell_type": "code",
      "source": [
        "class Database:\n",
        "  def __init__(self, df):\n",
        "    self.df = df\n",
        "    self.length = len(df)\n",
        "\n",
        "  def Nan_plt(self, size=(10,7)):\n",
        "    '''\n",
        "      Returns:\n",
        "        Plot the number of NaN values for each column against the total number \n",
        "        of samples (might consider to analyze simple groups though)\n",
        "    '''\n",
        "    NAs=[]\n",
        "    rest=[]\n",
        "    for col in self.df:\n",
        "      NAs.append(self.df[col].isna().sum())\n",
        "      rest.append(self.length-self.df[col].isna().sum())\n",
        "\n",
        "    x = np.arange(len(NAs))\n",
        "    plt.figure(figsize=size)\n",
        "    plt.bar(x, NAs, color='r')\n",
        "    plt.bar(x, rest, bottom=NAs, color='skyblue')\n",
        "    plt.xticks(x, df.columns, rotation='vertical')\n",
        "    plt.ylabel('NaN')\n",
        "\n",
        "  def Nan_column_plt(self, column, value, size=(10,7)):\n",
        "    '''\n",
        "      Args:\n",
        "        column {str}: column containing the value\n",
        "        value {str}: filter the indicated column to a specifc category\n",
        "      Returns:\n",
        "        Plot the number of NaN values for indicated column against the total number \n",
        "        of samples \n",
        "    '''\n",
        "    NAs=[]\n",
        "    rest=[]\n",
        "    snippet_df = self.df[self.df[column]==value]\n",
        "    for col in snippet_df:\n",
        "      NAs.append(snippet_df[col].isna().sum())\n",
        "      rest.append(self.length-snippet_df[col].isna().sum())\n",
        "\n",
        "    x = np.arange(len(NAs))\n",
        "    plt.figure(figsize=size)\n",
        "    plt.bar(x, NAs, color='r')\n",
        "    plt.bar(x, rest, bottom=NAs, color='skyblue')\n",
        "    plt.xticks(x, df.columns, rotation='vertical')\n",
        "    plt.ylabel('NaN')\n",
        "\n",
        "  def multi_Nan_column_plt(self, groups, size=(15, 12), hspace=0.5):\n",
        "    '''\n",
        "      Args:\n",
        "        groups {str}: column containing the groups/classes\n",
        "      Returns:\n",
        "        Plot the number of NaN values for all columns against the total number \n",
        "        of samples \n",
        "    '''\n",
        "    # define subplot grid\n",
        "    n = math.ceil(np.sqrt(len(set(self.df[groups]))))\n",
        "    fig, axs = plt.subplots(nrows=n, ncols=n, figsize=size)\n",
        "    plt.subplots_adjust(hspace=hspace)\n",
        "    i=0\n",
        "    j=0\n",
        "    z=0\n",
        "    for value in set(self.df[groups]):\n",
        "      z+=1\n",
        "      NAs=[]\n",
        "      rest=[]\n",
        "      snippet_df = self.df[self.df[groups]==value]\n",
        "      for col in snippet_df:\n",
        "        NAs.append(snippet_df[col].isna().sum())\n",
        "        rest.append(self.length-snippet_df[col].isna().sum())\n",
        "\n",
        "      x = np.arange(len(NAs))\n",
        "      axs[j, i].bar(x, NAs, color='r')\n",
        "      axs[j, i].bar(x, rest, bottom=NAs, color='skyblue')\n",
        "      axs[j, i].set_xticks(x)\n",
        "      axs[j, i].set_xticklabels(df.columns, rotation=90)\n",
        "      axs[j, i].set_title(value)\n",
        "      i+=1\n",
        "      if i == n:\n",
        "        i=0\n",
        "        j+=1\n",
        "      if z == len(set(self.df[groups])):\n",
        "        break\n",
        "  def oneway_anova(self, col, groups):\n",
        "    model = ols('{} ~ C({})'.format(col, groups), data=self.df).fit()\n",
        "    aov_table = sm.stats.anova_lm(model, typ=2)\n",
        "    print(aov_table)\n",
        "    print(f'Normality of Residuals (if <0.05 anova results are not reliable!): {stats.shapiro(model.resid)}')\n",
        "    print('NB: check also homogeneity of variance')\n",
        "\n",
        "  def homogeneity_of_variance(self, category, groups, cols):\n",
        "    \"\"\"\n",
        "      Args:\n",
        "        category {str}: name of the column containing the groups\n",
        "        groups {list[str]}: list having the specific groups\n",
        "        cols {list[str]}: list havnig the columns to be analyzed\n",
        "\n",
        "      Returns:\n",
        "        The function print the varinace of each group in the analyzed columns, \n",
        "        and returns the confidence of Levene test. If p-value <0.05 the variance\n",
        "        is non homogeneous (consider using a non-parametric test if sample sizes\n",
        "        are significantly different)\n",
        "    \"\"\"\n",
        "    for col in cols:\n",
        "      print(f'### {col} ###')\n",
        "      vars = [np.var(self.df[self.df[category]==group][col]) for group in groups]\n",
        "      print('Groups variance:\\n'+('\\t{}\\n'*len(vars)).format(*vars))\n",
        "      t = stats.levene(*[self.df[self.df[category]==group][col] for group in groups])\n",
        "      print(f'Levene test\\n\\tNull hypothesis: all input samples have similar variances.\\n\\t{t}')\n",
        "\n",
        "\n",
        "  def multi_Ttest(self, category, groups, cols, equal_var=True, plot_boxplot=False):\n",
        "    \"\"\"\n",
        "      Args:\n",
        "        category {str}: name of the column containing the groups\n",
        "        groups {list[str]}: list having the specific groups\n",
        "        cols {list[str]}: list havnig the columns to be analyzed\n",
        "        equal_var {bool}: if the samples have equal bar or not\n",
        "        plot_boxplot {bool}: if output boxplot of means or not\n",
        "\n",
        "      Returns:\n",
        "        The function print the result of a T-test (or Welch T-test in case of \n",
        "        non-homogeneous variance) and a graph plotting the mean of each groups. \n",
        "    \"\"\"\n",
        "\n",
        "    for col in cols:\n",
        "      if plot_boxplot:\n",
        "        fig = plt.figure(figsize= (10, 10))\n",
        "        ax = fig.add_subplot(111)\n",
        "        ax.set_title(col, fontsize= 20)\n",
        "        ax.set\n",
        "        data = [self.df[self.df[category]==group][col] for group in groups]\n",
        "\n",
        "        ax.boxplot(data,\n",
        "                  labels = groups,\n",
        "                  showmeans= True)\n",
        "\n",
        "        plt.xlabel(category)\n",
        "        plt.ylabel(\"Dependent Variable\")\n",
        "\n",
        "        plt.show()\n",
        "      for pair in combinations(groups, 2):\n",
        "        t, p = stats.ttest_ind(self.df[self.df[category]==pair[0]][col],\n",
        "                            self.df[self.df[category]==pair[1]][col], \n",
        "                            equal_var = equal_var)\n",
        "        print(f\"T-test between ({pair[0]}) and ({pair[1]}):\\n\\tT-statistic = {t}\\n\\tP-value = {p}\")\n",
        "      print('\\n')\n",
        "    "
      ],
      "metadata": {
        "id": "FQwpB-kZ9YMC"
      },
      "execution_count": 8,
      "outputs": []
    },
    {
      "cell_type": "code",
      "source": [
        "acr_to_name = {\n",
        "    'BE':'Belgium', \n",
        "    'EL':'Greece',\n",
        "    'LT':'Lithuania',\n",
        "    'PT':'Portugal',\n",
        "    'BG':'Bulgaria',\n",
        "    'ES':'Spain',\n",
        "    'LU':'Luxembourg',\n",
        "    'RO':'Romania',\n",
        "    'CZ':'Czechia',\n",
        "    'FR':'France', \n",
        "    'HU':'Hungary',\n",
        "    'SI':'Slovenia',\n",
        "    'DK':'Denmark',\n",
        "    'HR':'Croatia',\n",
        "    'MT':'Malta',\n",
        "    'SK':'Slovakia',\n",
        "    'DE':'Germany',\n",
        "    'IT':'Italy',\n",
        "    'NL':'Netherlands',\n",
        "    'FI':'Finland',\n",
        "    'EE':'Estonia',\n",
        "    'CY':'Cyprus',\n",
        "    'AT':'Austria',\n",
        "    'SE':'Sweden',\n",
        "    'IE':'Ireland',\n",
        "    'LV':'Latvia',\n",
        "    'PL':'Poland',\n",
        "    'EU28':'Enlargement of the European Union', \n",
        "    'IS':'Iceland',\n",
        "    'NO':'Norway',\n",
        "    'LI':'Liechtenstein',\n",
        "    'CH':'Switzerland', \n",
        "    'ME':'Montenegro',\n",
        "    'MK':'North Macedonia', \n",
        "    'AL':'Albania',\n",
        "    'RS':'Serbia',\n",
        "    'TR':'Türkiye',\n",
        "    'EU27_2020':'European Union after UK exit',\n",
        "    'EA19':'Euro Area 2019',\n",
        "    'UK':'United Kingdom', \n",
        "    'EU15': 'European Union 2015'\n",
        "}"
      ],
      "metadata": {
        "id": "n2X0gLlT8VHj"
      },
      "execution_count": 9,
      "outputs": []
    },
    {
      "cell_type": "markdown",
      "source": [
        "# Preprocessing"
      ],
      "metadata": {
        "id": "rlzf7MDE8ZID"
      }
    },
    {
      "cell_type": "code",
      "source": [
        "df = pd.read_csv('/content/hlth_ehis_mh1e.tsv', sep=',|\\t')"
      ],
      "metadata": {
        "id": "Nia0rllG8azO"
      },
      "execution_count": 10,
      "outputs": []
    },
    {
      "cell_type": "code",
      "source": [
        "# rename and remove spaces in column names\n",
        "df=df.rename(columns = {'geo\\\\time':'geo'})\n",
        "for i, col in enumerate(df):\n",
        "  if col[0].isdigit():\n",
        "    df=df.rename(columns={col: 'y_'+col.strip()})\n",
        "  else:\n",
        "    df=df.rename(columns={col: col.strip()})\n",
        "\n",
        "# convert acronyms of countries\n",
        "df=df.replace({\"geo\": acr_to_name})"
      ],
      "metadata": {
        "id": "q8J-fqW48hLi"
      },
      "execution_count": 11,
      "outputs": []
    },
    {
      "cell_type": "markdown",
      "source": [
        "## Transform some Variables"
      ],
      "metadata": {
        "id": "yPxMWdLn83A5"
      }
    },
    {
      "cell_type": "code",
      "source": [
        "# covert str into float\n",
        "for col in df:\n",
        "  if col in ['sex', 'age','unit', 'isced11', 'geo', 'hlth_pb']:\n",
        "    continue\n",
        "  df[col] = df[col].map(lambda x: re.findall(r'\\d+\\.\\d+', x)[0] if len(re.findall(r'\\d+\\.\\d+', x))>0 else None)\n",
        "  df[col] = pd.to_numeric(df[col])"
      ],
      "metadata": {
        "id": "QPfLjv5x85y2"
      },
      "execution_count": 12,
      "outputs": []
    },
    {
      "cell_type": "code",
      "source": [
        "database = Database(df)\n",
        "database.Nan_plt()"
      ],
      "metadata": {
        "colab": {
          "base_uri": "https://localhost:8080/",
          "height": 457
        },
        "id": "SFxLMalQ9c-K",
        "outputId": "8c0cc7f4-2b64-4af4-d8d9-a565eed293ef"
      },
      "execution_count": 14,
      "outputs": [
        {
          "output_type": "display_data",
          "data": {
            "text/plain": [
              "<Figure size 720x504 with 1 Axes>"
            ],
            "image/png": "[encoded data removed]"
          },
          "metadata": {
            "needs_background": "light"
          }
        }
      ]
    },
    {
      "cell_type": "code",
      "source": [
        "database.Nan_column_plt(column='geo', value='Italy')"
      ],
      "metadata": {
        "colab": {
          "base_uri": "https://localhost:8080/",
          "height": 457
        },
        "id": "VEyZeu-29qhp",
        "outputId": "62a6c078-0253-4127-b222-6150d6a61709"
      },
      "execution_count": 15,
      "outputs": [
        {
          "output_type": "display_data",
          "data": {
            "text/plain": [
              "<Figure size 720x504 with 1 Axes>"
            ],
            "image/png": "[encoded data removed]"
          },
          "metadata": {
            "needs_background": "light"
          }
        }
      ]
    },
    {
      "cell_type": "code",
      "source": [
        "italy = df[df['geo']=='Italy']\n",
        "df1 = italy.groupby(['isced11']).mean()\n",
        "print(italy.describe())\n",
        "italy.plot.kde()"
      ],
      "metadata": {
        "colab": {
          "base_uri": "https://localhost:8080/",
          "height": 439
        },
        "id": "gBiuZkqoizU3",
        "outputId": "e8a363d5-78d1-408d-f344-6a464a9711b7"
      },
      "execution_count": 16,
      "outputs": [
        {
          "output_type": "stream",
          "name": "stdout",
          "text": [
            "           y_2019      y_2014\n",
            "count  396.000000  651.000000\n",
            "mean     2.661616    2.231029\n",
            "std      2.127289    2.025838\n",
            "min      0.300000    0.100000\n",
            "25%      1.300000    1.100000\n",
            "50%      2.050000    1.700000\n",
            "75%      3.400000    2.600000\n",
            "max     15.300000   16.600000\n"
          ]
        },
        {
          "output_type": "execute_result",
          "data": {
            "text/plain": [
              "<matplotlib.axes._subplots.AxesSubplot at 0x7f3a9b1c0a90>"
            ]
          },
          "metadata": {},
          "execution_count": 16
        },
        {
          "output_type": "display_data",
          "data": {
            "text/plain": [
              "<Figure size 432x288 with 1 Axes>"
            ],
            "image/png": "[encoded data removed]"
          },
          "metadata": {
            "needs_background": "light"
          }
        }
      ]
    },
    {
      "cell_type": "code",
      "source": [
        "for col in df1:\n",
        "  for edu, (index, row) in zip(['ED0-2', 'ED3_4', 'ED5-8', 'TOTAL'], df1.iterrows()):\n",
        "    avg = row[col]\n",
        "    italy.loc[(italy[col].isnull()) & (italy['isced11']==edu), col] = avg"
      ],
      "metadata": {
        "colab": {
          "base_uri": "https://localhost:8080/"
        },
        "id": "pcS0VfjUCq_7",
        "outputId": "9139d0a0-35bc-4ead-fb84-7c40d6bf401e"
      },
      "execution_count": 17,
      "outputs": [
        {
          "output_type": "stream",
          "name": "stderr",
          "text": [
            "/usr/local/lib/python3.7/dist-packages/pandas/core/indexing.py:1817: SettingWithCopyWarning: \n",
            "A value is trying to be set on a copy of a slice from a DataFrame.\n",
            "Try using .loc[row_indexer,col_indexer] = value instead\n",
            "\n",
            "See the caveats in the documentation: https://pandas.pydata.org/pandas-docs/stable/user_guide/indexing.html#returning-a-view-versus-a-copy\n",
            "  self._setitem_single_column(loc, value, pi)\n"
          ]
        }
      ]
    },
    {
      "cell_type": "code",
      "source": [
        "print(italy.describe())\n",
        "italy.plot.kde()"
      ],
      "metadata": {
        "colab": {
          "base_uri": "https://localhost:8080/",
          "height": 439
        },
        "id": "UN4litu5CoWd",
        "outputId": "cdd71f60-de1f-482d-c67f-fccc7c27b272"
      },
      "execution_count": 18,
      "outputs": [
        {
          "output_type": "stream",
          "name": "stdout",
          "text": [
            "           y_2019      y_2014\n",
            "count  684.000000  684.000000\n",
            "mean     2.661616    2.209758\n",
            "std      1.645100    1.983563\n",
            "min      0.300000    0.100000\n",
            "25%      1.800000    1.100000\n",
            "50%      2.402020    1.600000\n",
            "75%      3.277778    2.600000\n",
            "max     15.300000   16.600000\n"
          ]
        },
        {
          "output_type": "execute_result",
          "data": {
            "text/plain": [
              "<matplotlib.axes._subplots.AxesSubplot at 0x7f3a9b1cac10>"
            ]
          },
          "metadata": {},
          "execution_count": 18
        },
        {
          "output_type": "display_data",
          "data": {
            "text/plain": [
              "<Figure size 432x288 with 1 Axes>"
            ],
            "image/png": "[encoded data removed]"
          },
          "metadata": {
            "needs_background": "light"
          }
        }
      ]
    },
    {
      "cell_type": "markdown",
      "source": [
        "# ANOVA"
      ],
      "metadata": {
        "id": "WOkyuGS4K0gn"
      }
    },
    {
      "cell_type": "code",
      "source": [
        "model = ols('y_2014 ~ C(isced11)', data=italy[italy['isced11']!='TOTAL']).fit()\n",
        "aov_table = sm.stats.anova_lm(model, typ=2)\n",
        "aov_table"
      ],
      "metadata": {
        "colab": {
          "base_uri": "https://localhost:8080/",
          "height": 112
        },
        "id": "LqbWrd1U8jn6",
        "outputId": "d1fb50b6-6871-4714-eb7d-d5e58cf021e1"
      },
      "execution_count": 19,
      "outputs": [
        {
          "output_type": "execute_result",
          "data": {
            "text/plain": [
              "                 sum_sq     df          F        PR(>F)\n",
              "C(isced11)   250.557576    2.0  40.673718  4.078511e-17\n",
              "Residual    1570.846835  510.0        NaN           NaN"
            ],
            "text/html": [
              "\n",
              "  <div id=\"df-0d01fd23-02e3-4cb2-ac30-1f5f85e070fc\">\n",
              "    <div class=\"colab-df-container\">\n",
              "      <div>\n",
              "<style scoped>\n",
              "    .dataframe tbody tr th:only-of-type {\n",
              "        vertical-align: middle;\n",
              "    }\n",
              "\n",
              "    .dataframe tbody tr th {\n",
              "        vertical-align: top;\n",
              "    }\n",
              "\n",
              "    .dataframe thead th {\n",
              "        text-align: right;\n",
              "    }\n",
              "</style>\n",
              "<table border=\"1\" class=\"dataframe\">\n",
              "  <thead>\n",
              "    <tr style=\"text-align: right;\">\n",
              "      <th></th>\n",
              "      <th>sum_sq</th>\n",
              "      <th>df</th>\n",
              "      <th>F</th>\n",
              "      <th>PR(&gt;F)</th>\n",
              "    </tr>\n",
              "  </thead>\n",
              "  <tbody>\n",
              "    <tr>\n",
              "      <th>C(isced11)</th>\n",
              "      <td>250.557576</td>\n",
              "      <td>2.0</td>\n",
              "      <td>40.673718</td>\n",
              "      <td>4.078511e-17</td>\n",
              "    </tr>\n",
              "    <tr>\n",
              "      <th>Residual</th>\n",
              "      <td>1570.846835</td>\n",
              "      <td>510.0</td>\n",
              "      <td>NaN</td>\n",
              "      <td>NaN</td>\n",
              "    </tr>\n",
              "  </tbody>\n",
              "</table>\n",
              "</div>\n",
              "      <button class=\"colab-df-convert\" onclick=\"convertToInteractive('df-0d01fd23-02e3-4cb2-ac30-1f5f85e070fc')\"\n",
              "              title=\"Convert this dataframe to an interactive table.\"\n",
              "              style=\"display:none;\">\n",
              "        \n",
              "  <svg xmlns=\"http://www.w3.org/2000/svg\" height=\"24px\"viewBox=\"0 0 24 24\"\n",
              "       width=\"24px\">\n",
              "    <path d=\"M0 0h24v24H0V0z\" fill=\"none\"/>\n",
              "    <path d=\"M18.56 5.44l.94 2.06.94-2.06 2.06-.94-2.06-.94-.94-2.06-.94 2.06-2.06.94zm-11 1L8.5 8.5l.94-2.06 2.06-.94-2.06-.94L8.5 2.5l-.94 2.06-2.06.94zm10 10l.94 2.06.94-2.06 2.06-.94-2.06-.94-.94-2.06-.94 2.06-2.06.94z\"/><path d=\"M17.41 7.96l-1.37-1.37c-.4-.4-.92-.59-1.43-.59-.52 0-1.04.2-1.43.59L10.3 9.45l-7.72 7.72c-.78.78-.78 2.05 0 2.83L4 21.41c.39.39.9.59 1.41.59.51 0 1.02-.2 1.41-.59l7.78-7.78 2.81-2.81c.8-.78.8-2.07 0-2.86zM5.41 20L4 18.59l7.72-7.72 1.47 1.35L5.41 20z\"/>\n",
              "  </svg>\n",
              "      </button>\n",
              "      \n",
              "  <style>\n",
              "    .colab-df-container {\n",
              "      display:flex;\n",
              "      flex-wrap:wrap;\n",
              "      gap: 12px;\n",
              "    }\n",
              "\n",
              "    .colab-df-convert {\n",
              "      background-color: #E8F0FE;\n",
              "      border: none;\n",
              "      border-radius: 50%;\n",
              "      cursor: pointer;\n",
              "      display: none;\n",
              "      fill: #1967D2;\n",
              "      height: 32px;\n",
              "      padding: 0 0 0 0;\n",
              "      width: 32px;\n",
              "    }\n",
              "\n",
              "    .colab-df-convert:hover {\n",
              "      background-color: #E2EBFA;\n",
              "      box-shadow: 0px 1px 2px rgba(60, 64, 67, 0.3), 0px 1px 3px 1px rgba(60, 64, 67, 0.15);\n",
              "      fill: #174EA6;\n",
              "    }\n",
              "\n",
              "    [theme=dark] .colab-df-convert {\n",
              "      background-color: #3B4455;\n",
              "      fill: #D2E3FC;\n",
              "    }\n",
              "\n",
              "    [theme=dark] .colab-df-convert:hover {\n",
              "      background-color: #434B5C;\n",
              "      box-shadow: 0px 1px 3px 1px rgba(0, 0, 0, 0.15);\n",
              "      filter: drop-shadow(0px 1px 2px rgba(0, 0, 0, 0.3));\n",
              "      fill: #FFFFFF;\n",
              "    }\n",
              "  </style>\n",
              "\n",
              "      <script>\n",
              "        const buttonEl =\n",
              "          document.querySelector('#df-0d01fd23-02e3-4cb2-ac30-1f5f85e070fc button.colab-df-convert');\n",
              "        buttonEl.style.display =\n",
              "          google.colab.kernel.accessAllowed ? 'block' : 'none';\n",
              "\n",
              "        async function convertToInteractive(key) {\n",
              "          const element = document.querySelector('#df-0d01fd23-02e3-4cb2-ac30-1f5f85e070fc');\n",
              "          const dataTable =\n",
              "            await google.colab.kernel.invokeFunction('convertToInteractive',\n",
              "                                                     [key], {});\n",
              "          if (!dataTable) return;\n",
              "\n",
              "          const docLinkHtml = 'Like what you see? Visit the ' +\n",
              "            '<a target=\"_blank\" href=https://colab.research.google.com/notebooks/data_table.ipynb>data table notebook</a>'\n",
              "            + ' to learn more about interactive tables.';\n",
              "          element.innerHTML = '';\n",
              "          dataTable['output_type'] = 'display_data';\n",
              "          await google.colab.output.renderOutput(dataTable, element);\n",
              "          const docLink = document.createElement('div');\n",
              "          docLink.innerHTML = docLinkHtml;\n",
              "          element.appendChild(docLink);\n",
              "        }\n",
              "      </script>\n",
              "    </div>\n",
              "  </div>\n",
              "  "
            ]
          },
          "metadata": {},
          "execution_count": 19
        }
      ]
    },
    {
      "cell_type": "markdown",
      "source": [
        "## Normality of Residuals"
      ],
      "metadata": {
        "id": "cPvW9n3BKt_l"
      }
    },
    {
      "cell_type": "code",
      "source": [],
      "metadata": {
        "id": "Bjp57UMt9ZqV"
      },
      "execution_count": 19,
      "outputs": []
    },
    {
      "cell_type": "markdown",
      "source": [
        "The test is non-significant, W= 0.7931, p= 5.0397e-25, which indicates that the residuals are NOT normally distributed."
      ],
      "metadata": {
        "id": "SYBaq4Bj9hcY"
      }
    },
    {
      "cell_type": "code",
      "source": [
        "fig = plt.figure(figsize= (10, 10))\n",
        "ax = fig.add_subplot(111)\n",
        "\n",
        "normality_plot, stat = stats.probplot(model.resid, plot= plt, rvalue= True)\n",
        "ax.set_title(\"Probability plot of model residual's\", fontsize= 20)\n",
        "ax.set\n",
        "\n",
        "plt.show()"
      ],
      "metadata": {
        "colab": {
          "base_uri": "https://localhost:8080/",
          "height": 627
        },
        "id": "YMLSBUDW9v1n",
        "outputId": "884e6f68-a866-43c7-d38a-e7604fc44583"
      },
      "execution_count": 20,
      "outputs": [
        {
          "output_type": "display_data",
          "data": {
            "text/plain": [
              "<Figure size 720x720 with 1 Axes>"
            ],
            "image/png": "[encoded data removed]"
          },
          "metadata": {
            "needs_background": "light"
          }
        }
      ]
    },
    {
      "cell_type": "markdown",
      "source": [
        "## Homogeneity of Variance"
      ],
      "metadata": {
        "id": "Cwv-B31qKqwp"
      }
    },
    {
      "cell_type": "code",
      "source": [
        "print(np.var(italy[italy['isced11']=='ED0-2']['y_2014']), \n",
        "      np.var(italy[italy['isced11']=='ED3_4']['y_2014']), \n",
        "      np.var(italy[italy['isced11']=='ED5-8']['y_2014']))\n",
        "\n",
        "stats.levene(italy[italy['isced11']=='ED0-2']['y_2014'],\n",
        "             italy[italy['isced11']=='ED3_4']['y_2014'],\n",
        "             italy[italy['isced11']=='ED5-8']['y_2014'])\n"
      ],
      "metadata": {
        "colab": {
          "base_uri": "https://localhost:8080/"
        },
        "id": "NdWcTm8f-ERn",
        "outputId": "0e725875-e37b-4d6c-fcf4-e5bdbc0adc5b"
      },
      "execution_count": 21,
      "outputs": [
        {
          "output_type": "stream",
          "name": "stdout",
          "text": [
            "6.288221158958001 1.7824429911069586 1.1155746509129971\n"
          ]
        },
        {
          "output_type": "execute_result",
          "data": {
            "text/plain": [
              "LeveneResult(statistic=19.77293965727833, pvalue=5.362733251163071e-09)"
            ]
          },
          "metadata": {},
          "execution_count": 21
        }
      ]
    },
    {
      "cell_type": "code",
      "source": [
        "fig = plt.figure(figsize= (10, 10))\n",
        "ax = fig.add_subplot(111)\n",
        "\n",
        "ax.set_title(\"Box Plot of Depressive Symptoms by Education Level\", fontsize= 20)\n",
        "ax.set\n",
        "\n",
        "data = [italy[italy['isced11']=='ED0-2']['y_2014'],\n",
        "        italy[italy['isced11']=='ED3_4']['y_2014'],\n",
        "        italy[italy['isced11']=='ED5-8']['y_2014']]\n",
        "\n",
        "ax.boxplot(data,\n",
        "           labels= ['ED0-2', 'ED3_4', 'ED5-8'],\n",
        "           showmeans= True)\n",
        "\n",
        "plt.xlabel(\"Education Level\")\n",
        "plt.ylabel(\"Depressive Symptoms\")\n",
        "\n",
        "plt.show()\n"
      ],
      "metadata": {
        "colab": {
          "base_uri": "https://localhost:8080/",
          "height": 627
        },
        "id": "O_Jy6IVn-qaj",
        "outputId": "ded4ba5e-3b19-4295-9688-021248dad41d"
      },
      "execution_count": 22,
      "outputs": [
        {
          "output_type": "display_data",
          "data": {
            "text/plain": [
              "<Figure size 720x720 with 1 Axes>"
            ],
            "image/png": "[encoded data removed]"
          },
          "metadata": {
            "needs_background": "light"
          }
        }
      ]
    },
    {
      "cell_type": "markdown",
      "source": [
        "#Welch ANOVA"
      ],
      "metadata": {
        "id": "07sFVT_2jfwG"
      }
    },
    {
      "cell_type": "code",
      "source": [
        "#Check whether there is equal variance between scores of those three strategies.\n",
        "#We can use Bartlett’s test to see if the variances in each group are equal.\n",
        "\n",
        "stats.bartlett(italy[italy['isced11']=='ED0-2']['y_2014'],\n",
        "               italy[italy['isced11']=='ED3_4']['y_2014'],\n",
        "               italy[italy['isced11']=='ED5-8']['y_2014'])\n",
        "\n",
        "#The p-value (2.47e-31) from Bartlett’s test is less than α = .05, which means we \n",
        "#can reject the null hypothesis that each group has the same variance. Thus, \n",
        "#the assumption of equal variances is violated and we can proceed to perform \n",
        "#Welch’s ANOVA."
      ],
      "metadata": {
        "colab": {
          "base_uri": "https://localhost:8080/"
        },
        "id": "TI5ynugO3PNF",
        "outputId": "1105452a-c12f-4a29-98ff-03a147503812"
      },
      "execution_count": 23,
      "outputs": [
        {
          "output_type": "execute_result",
          "data": {
            "text/plain": [
              "BartlettResult(statistic=140.9440373487659, pvalue=2.479654431752146e-31)"
            ]
          },
          "metadata": {},
          "execution_count": 23
        }
      ]
    },
    {
      "cell_type": "code",
      "source": [
        "pg.welch_anova(dv='y_2014', between='isced11', data=italy[italy['isced11']!='TOTAL'])\n",
        "\n",
        "#The overall p-value (1.74e-13) from the ANOVA table is less than α = .05, \n",
        "#which means we can reject the null hypothesis that the exam scores are equal \n",
        "#between the three studying techniques."
      ],
      "metadata": {
        "colab": {
          "base_uri": "https://localhost:8080/",
          "height": 81
        },
        "id": "Nrppije7EnaP",
        "outputId": "50ed66da-433a-4eab-cdd6-a09b64443d5e"
      },
      "execution_count": 24,
      "outputs": [
        {
          "output_type": "execute_result",
          "data": {
            "text/plain": [
              "    Source  ddof1       ddof2          F         p-unc       np2\n",
              "0  isced11      2  315.327172  32.288904  1.749336e-13  0.137563"
            ],
            "text/html": [
              "\n",
              "  <div id=\"df-53f451d8-c307-4a1c-9cd6-5f78b93a3210\">\n",
              "    <div class=\"colab-df-container\">\n",
              "      <div>\n",
              "<style scoped>\n",
              "    .dataframe tbody tr th:only-of-type {\n",
              "        vertical-align: middle;\n",
              "    }\n",
              "\n",
              "    .dataframe tbody tr th {\n",
              "        vertical-align: top;\n",
              "    }\n",
              "\n",
              "    .dataframe thead th {\n",
              "        text-align: right;\n",
              "    }\n",
              "</style>\n",
              "<table border=\"1\" class=\"dataframe\">\n",
              "  <thead>\n",
              "    <tr style=\"text-align: right;\">\n",
              "      <th></th>\n",
              "      <th>Source</th>\n",
              "      <th>ddof1</th>\n",
              "      <th>ddof2</th>\n",
              "      <th>F</th>\n",
              "      <th>p-unc</th>\n",
              "      <th>np2</th>\n",
              "    </tr>\n",
              "  </thead>\n",
              "  <tbody>\n",
              "    <tr>\n",
              "      <th>0</th>\n",
              "      <td>isced11</td>\n",
              "      <td>2</td>\n",
              "      <td>315.327172</td>\n",
              "      <td>32.288904</td>\n",
              "      <td>1.749336e-13</td>\n",
              "      <td>0.137563</td>\n",
              "    </tr>\n",
              "  </tbody>\n",
              "</table>\n",
              "</div>\n",
              "      <button class=\"colab-df-convert\" onclick=\"convertToInteractive('df-53f451d8-c307-4a1c-9cd6-5f78b93a3210')\"\n",
              "              title=\"Convert this dataframe to an interactive table.\"\n",
              "              style=\"display:none;\">\n",
              "        \n",
              "  <svg xmlns=\"http://www.w3.org/2000/svg\" height=\"24px\"viewBox=\"0 0 24 24\"\n",
              "       width=\"24px\">\n",
              "    <path d=\"M0 0h24v24H0V0z\" fill=\"none\"/>\n",
              "    <path d=\"M18.56 5.44l.94 2.06.94-2.06 2.06-.94-2.06-.94-.94-2.06-.94 2.06-2.06.94zm-11 1L8.5 8.5l.94-2.06 2.06-.94-2.06-.94L8.5 2.5l-.94 2.06-2.06.94zm10 10l.94 2.06.94-2.06 2.06-.94-2.06-.94-.94-2.06-.94 2.06-2.06.94z\"/><path d=\"M17.41 7.96l-1.37-1.37c-.4-.4-.92-.59-1.43-.59-.52 0-1.04.2-1.43.59L10.3 9.45l-7.72 7.72c-.78.78-.78 2.05 0 2.83L4 21.41c.39.39.9.59 1.41.59.51 0 1.02-.2 1.41-.59l7.78-7.78 2.81-2.81c.8-.78.8-2.07 0-2.86zM5.41 20L4 18.59l7.72-7.72 1.47 1.35L5.41 20z\"/>\n",
              "  </svg>\n",
              "      </button>\n",
              "      \n",
              "  <style>\n",
              "    .colab-df-container {\n",
              "      display:flex;\n",
              "      flex-wrap:wrap;\n",
              "      gap: 12px;\n",
              "    }\n",
              "\n",
              "    .colab-df-convert {\n",
              "      background-color: #E8F0FE;\n",
              "      border: none;\n",
              "      border-radius: 50%;\n",
              "      cursor: pointer;\n",
              "      display: none;\n",
              "      fill: #1967D2;\n",
              "      height: 32px;\n",
              "      padding: 0 0 0 0;\n",
              "      width: 32px;\n",
              "    }\n",
              "\n",
              "    .colab-df-convert:hover {\n",
              "      background-color: #E2EBFA;\n",
              "      box-shadow: 0px 1px 2px rgba(60, 64, 67, 0.3), 0px 1px 3px 1px rgba(60, 64, 67, 0.15);\n",
              "      fill: #174EA6;\n",
              "    }\n",
              "\n",
              "    [theme=dark] .colab-df-convert {\n",
              "      background-color: #3B4455;\n",
              "      fill: #D2E3FC;\n",
              "    }\n",
              "\n",
              "    [theme=dark] .colab-df-convert:hover {\n",
              "      background-color: #434B5C;\n",
              "      box-shadow: 0px 1px 3px 1px rgba(0, 0, 0, 0.15);\n",
              "      filter: drop-shadow(0px 1px 2px rgba(0, 0, 0, 0.3));\n",
              "      fill: #FFFFFF;\n",
              "    }\n",
              "  </style>\n",
              "\n",
              "      <script>\n",
              "        const buttonEl =\n",
              "          document.querySelector('#df-53f451d8-c307-4a1c-9cd6-5f78b93a3210 button.colab-df-convert');\n",
              "        buttonEl.style.display =\n",
              "          google.colab.kernel.accessAllowed ? 'block' : 'none';\n",
              "\n",
              "        async function convertToInteractive(key) {\n",
              "          const element = document.querySelector('#df-53f451d8-c307-4a1c-9cd6-5f78b93a3210');\n",
              "          const dataTable =\n",
              "            await google.colab.kernel.invokeFunction('convertToInteractive',\n",
              "                                                     [key], {});\n",
              "          if (!dataTable) return;\n",
              "\n",
              "          const docLinkHtml = 'Like what you see? Visit the ' +\n",
              "            '<a target=\"_blank\" href=https://colab.research.google.com/notebooks/data_table.ipynb>data table notebook</a>'\n",
              "            + ' to learn more about interactive tables.';\n",
              "          element.innerHTML = '';\n",
              "          dataTable['output_type'] = 'display_data';\n",
              "          await google.colab.output.renderOutput(dataTable, element);\n",
              "          const docLink = document.createElement('div');\n",
              "          docLink.innerHTML = docLinkHtml;\n",
              "          element.appendChild(docLink);\n",
              "        }\n",
              "      </script>\n",
              "    </div>\n",
              "  </div>\n",
              "  "
            ]
          },
          "metadata": {},
          "execution_count": 24
        }
      ]
    },
    {
      "cell_type": "markdown",
      "source": [
        "## Normal Distribution"
      ],
      "metadata": {
        "id": "KU5niRJYxzeH"
      }
    },
    {
      "cell_type": "code",
      "source": [
        "x = italy[(italy['hlth_pb']=='DPR')&(italy['isced11']=='ED5-8')]['y_2014']\n",
        "#x = italy[(italy['hlth_pb']=='DPR')&(italy['isced11']!='ED5-8')&(italy['isced11']!='TOTAL')]['y_2014']\n",
        "\n",
        "k2, p = stats.normaltest(x)\n",
        "print(\"p = {:g}\".format(p))"
      ],
      "metadata": {
        "colab": {
          "base_uri": "https://localhost:8080/"
        },
        "id": "IfhlqYeV47BU",
        "outputId": "a686024b-f6c8-44da-c872-2e6cb55fc708"
      },
      "execution_count": 25,
      "outputs": [
        {
          "output_type": "stream",
          "name": "stdout",
          "text": [
            "p = 2.14284e-12\n"
          ]
        }
      ]
    },
    {
      "cell_type": "markdown",
      "source": [
        "# Welch T-test"
      ],
      "metadata": {
        "id": "3lDnZ5oYS2SH"
      }
    },
    {
      "cell_type": "code",
      "source": [
        "import statsmodels.stats.multicomp as mc\n",
        "\n",
        "print(stats.ttest_ind(italy[italy['isced11']=='ED0-2']['y_2014'],\n",
        "                      italy[italy['isced11']=='ED3_4']['y_2014'], \n",
        "                      equal_var = False))\n"
      ],
      "metadata": {
        "colab": {
          "base_uri": "https://localhost:8080/"
        },
        "id": "fQMAf__MLi0P",
        "outputId": "8d564d6e-b33c-46f4-f54d-a4be2178cc80"
      },
      "execution_count": 26,
      "outputs": [
        {
          "output_type": "stream",
          "name": "stdout",
          "text": [
            "Ttest_indResult(statistic=5.587150112799057, pvalue=5.8309771624178904e-08)\n"
          ]
        }
      ]
    },
    {
      "cell_type": "code",
      "source": [
        "cols = ['y_2014', 'y_2019']\n",
        "groups = ['ED0-2', 'ED3_4', 'ED5-8']\n",
        "category = 'isced11'\n",
        "def multi_Ttest(df, category, groups, cols, equal_var=True):\n",
        "  for col in cols:\n",
        "    fig = plt.figure(figsize= (10, 10))\n",
        "    ax = fig.add_subplot(111)\n",
        "    ax.set_title(col, fontsize= 20)\n",
        "    ax.set\n",
        "    data = [df[df[category]==group][col] for group in groups]\n",
        "\n",
        "    ax.boxplot(data,\n",
        "              labels = groups,\n",
        "              showmeans= True)\n",
        "\n",
        "    plt.xlabel(category)\n",
        "    plt.ylabel(\"Dependent Variable\")\n",
        "\n",
        "    plt.show()\n",
        "    for pair in combinations(groups, 2):\n",
        "      t, p = stats.ttest_ind(df[df[category]==pair[0]][col],\n",
        "                          df[df[category]==pair[1]][col], \n",
        "                          equal_var = equal_var)\n",
        "      print(f\"T-test between ({pair[0]}) and ({pair[1]}):\\n\\tT-statistic = {t}\\n\\tP-value = {p}\")\n",
        "    print('\\n')\n",
        "multi_Ttest(italy, category, groups, cols, equal_var=True)"
      ],
      "metadata": {
        "colab": {
          "base_uri": "https://localhost:8080/",
          "height": 1000
        },
        "id": "BsEaZ7jSklVg",
        "outputId": "884dcf6d-2e05-462c-a715-9f5ceeed2c44"
      },
      "execution_count": 27,
      "outputs": [
        {
          "output_type": "display_data",
          "data": {
            "text/plain": [
              "<Figure size 720x720 with 1 Axes>"
            ],
            "image/png": "[encoded data removed]"
          },
          "metadata": {
            "needs_background": "light"
          }
        },
        {
          "output_type": "stream",
          "name": "stdout",
          "text": [
            "T-test between (ED0-2) and (ED3_4):\n",
            "\tT-statistic = 5.587150112799057\n",
            "\tP-value = 4.736495746019682e-08\n",
            "T-test between (ED0-2) and (ED5-8):\n",
            "\tT-statistic = 7.911155577381301\n",
            "\tP-value = 3.620741740298898e-14\n",
            "T-test between (ED3_4) and (ED5-8):\n",
            "\tT-statistic = 3.3211032688066355\n",
            "\tP-value = 0.000994009422934332\n",
            "\n",
            "\n"
          ]
        },
        {
          "output_type": "display_data",
          "data": {
            "text/plain": [
              "<Figure size 720x720 with 1 Axes>"
            ],
            "image/png": "[encoded data removed]"
          },
          "metadata": {
            "needs_background": "light"
          }
        },
        {
          "output_type": "stream",
          "name": "stdout",
          "text": [
            "T-test between (ED0-2) and (ED3_4):\n",
            "\tT-statistic = 4.9310896313963735\n",
            "\tP-value = 1.2812296953040164e-06\n",
            "T-test between (ED0-2) and (ED5-8):\n",
            "\tT-statistic = 6.853744983365346\n",
            "\tP-value = 3.393036840074496e-11\n",
            "T-test between (ED3_4) and (ED5-8):\n",
            "\tT-statistic = 2.4401897991543686\n",
            "\tP-value = 0.015189763147421691\n",
            "\n",
            "\n"
          ]
        }
      ]
    },
    {
      "cell_type": "code",
      "source": [
        "it = Database(italy)\n",
        "it.multi_Ttest(category, groups, cols, equal_var=True)"
      ],
      "metadata": {
        "colab": {
          "base_uri": "https://localhost:8080/"
        },
        "id": "_VFMeaG0Z5Nb",
        "outputId": "19b686e3-3a3f-488b-8a11-e20b9388c8b4"
      },
      "execution_count": 28,
      "outputs": [
        {
          "output_type": "stream",
          "name": "stdout",
          "text": [
            "T-test between (ED0-2) and (ED3_4):\n",
            "\tT-statistic = 5.587150112799057\n",
            "\tP-value = 4.736495746019682e-08\n",
            "T-test between (ED0-2) and (ED5-8):\n",
            "\tT-statistic = 7.911155577381301\n",
            "\tP-value = 3.620741740298898e-14\n",
            "T-test between (ED3_4) and (ED5-8):\n",
            "\tT-statistic = 3.3211032688066355\n",
            "\tP-value = 0.000994009422934332\n",
            "\n",
            "\n",
            "T-test between (ED0-2) and (ED3_4):\n",
            "\tT-statistic = 4.9310896313963735\n",
            "\tP-value = 1.2812296953040164e-06\n",
            "T-test between (ED0-2) and (ED5-8):\n",
            "\tT-statistic = 6.853744983365346\n",
            "\tP-value = 3.393036840074496e-11\n",
            "T-test between (ED3_4) and (ED5-8):\n",
            "\tT-statistic = 2.4401897991543686\n",
            "\tP-value = 0.015189763147421691\n",
            "\n",
            "\n"
          ]
        }
      ]
    },
    {
      "cell_type": "code",
      "source": [
        "it.homogeneity_of_variance(category, groups, cols)"
      ],
      "metadata": {
        "colab": {
          "base_uri": "https://localhost:8080/"
        },
        "id": "pbnY4ih3JtK0",
        "outputId": "7901c756-78fa-4f5f-f134-583b5bfcfb71"
      },
      "execution_count": 29,
      "outputs": [
        {
          "output_type": "stream",
          "name": "stdout",
          "text": [
            "### y_2014 ###\n",
            "Groups variance:\n",
            "\t6.288221158958001\n",
            "\t1.7824429911069586\n",
            "\t1.1155746509129971\n",
            "\n",
            "Levene test\n",
            "\tNull hypothesis: all input samples have similar variances.\n",
            "\tLeveneResult(statistic=19.77293965727833, pvalue=5.362733251163071e-09)\n",
            "### y_2019 ###\n",
            "Groups variance:\n",
            "\t3.7659129304743337\n",
            "\t1.5961379880678128\n",
            "\t1.480653316793668\n",
            "\n",
            "Levene test\n",
            "\tNull hypothesis: all input samples have similar variances.\n",
            "\tLeveneResult(statistic=5.8474926820633435, pvalue=0.0030842249031396048)\n"
          ]
        }
      ]
    }
  ]
}